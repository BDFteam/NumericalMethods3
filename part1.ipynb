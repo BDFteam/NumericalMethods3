{
 "cells": [
  {
   "cell_type": "markdown",
   "metadata": {},
   "source": [
    "# Rejection Sampling\n",
    "\n",
    "First import dependencies"
   ]
  },
  {
   "cell_type": "code",
   "execution_count": 28,
   "metadata": {},
   "outputs": [],
   "source": [
    "import matplotlib.pyplot as plt\n",
    "import scipy.stats as sts\n",
    "import numpy as np"
   ]
  },
  {
   "cell_type": "markdown",
   "metadata": {},
   "source": [
    "## Create Samples\n",
    "In the functions below we create random samples of size n, for the given distributions:\n",
    "$U \\sim U(0, 1)$,\n",
    "$X \\sim N(0, 1)$,\n",
    "$Y \\sim \\exp(1)$, and\n",
    "$Z \\sim \\|X\\|$"
   ]
  },
  {
   "cell_type": "code",
   "execution_count": 15,
   "metadata": {},
   "outputs": [],
   "source": [
    "def simulate_u(size: int) -> np.ndarray:\n",
    "    return np.random.random(size)\n",
    "    \n",
    "def simulate_x(size: int) -> np.ndarray:\n",
    "    return np.random.normal(0, 1, size)\n",
    "\n",
    "def simulate_y(size: int) -> np.ndarray:\n",
    "    # Moet met dat ding inverse ~ Robin\n",
    "    return np.random.exponential(1, size)\n",
    "\n",
    "def simulate_z(size: int) -> np.ndarray:\n",
    "    return np.abs(simulate_x(size))\n"
   ]
  },
  {
   "cell_type": "markdown",
   "metadata": {},
   "source": [
    "## Generate Z using rejection sampling\n",
    "Hahah geen idee of dit het is"
   ]
  },
  {
   "cell_type": "code",
   "execution_count": 29,
   "metadata": {},
   "outputs": [
    {
     "data": {
      "image/png": "[encoded data removed]",
      "text/plain": [
       "<Figure size 432x288 with 1 Axes>"
      ]
     },
     "metadata": {
      "needs_background": "light"
     },
     "output_type": "display_data"
    }
   ],
   "source": [
    "def rejection_abs_normal(n):\n",
    "    X = np.zeros(n)\n",
    "\n",
    "    for i in range(0,n):\n",
    "        Y = simulate_y(1)\n",
    "        U = np.random.rand()\n",
    "        while U > np.exp(-0.5 * Y **2 + Y - 0.5):\n",
    "            Y = simulate_y(1)\n",
    "            U = np.random.rand()\n",
    "            \n",
    "        X[i] = Y\n",
    "\n",
    "    return X\n",
    "\n",
    "def split(input):\n",
    "    for i in range(len(input)): \n",
    "        if simulate_u(1) > 0.5: input[i] = -input[i]\n",
    "\n",
    "    return input\n",
    "\n",
    "def standard_normal(n):\n",
    "    x = np.linspace(-4, 4, n)\n",
    "    y = sts.norm.pdf(x)\n",
    "\n",
    "    return y\n",
    "    \n",
    "\n",
    "def main():\n",
    "    n = 1000000\n",
    "    samples = rejection_abs_normal(n)\n",
    "    samples = split(samples)\n",
    "\n",
    "\n",
    "    plt.hist(samples, density=True, bins=500)\n",
    "    plt.plot(np.linspace(-4, 4, 1000), standard_normal(1000))\n",
    "    plt.show()\n",
    "\n",
    "\n",
    "\n",
    "main()"
   ]
  }
 ],
 "metadata": {
  "interpreter": {
   "hash": "1c7434731747d88815ea98a4470429bf1ebbf9287f8433fda1e0ecccc300fe0c"
  },
  "kernelspec": {
   "display_name": "Python 3.8.3 64-bit ('base': conda)",
   "language": "python",
   "name": "python3"
  },
  "language_info": {
   "codemirror_mode": {
    "name": "ipython",
    "version": 3
   },
   "file_extension": ".py",
   "mimetype": "text/x-python",
   "name": "python",
   "nbconvert_exporter": "python",
   "pygments_lexer": "ipython3",
   "version": "3.8.3"
  },
  "orig_nbformat": 4
 },
 "nbformat": 4,
 "nbformat_minor": 2
}

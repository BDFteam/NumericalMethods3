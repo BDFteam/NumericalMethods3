{
 "cells": [
  {
   "cell_type": "markdown",
   "metadata": {},
   "source": [
    "# Rejection Sampling\n",
    "\n",
    "First import dependencies"
   ]
  },
  {
   "cell_type": "code",
   "execution_count": null,
   "metadata": {},
   "outputs": [],
   "source": [
    "import numpy as np"
   ]
  },
  {
   "cell_type": "markdown",
   "metadata": {},
   "source": [
    "## Create Samples\n",
    "In the functions below we create random samples of size n, for the given distributions:\n",
    "$U \\sim U(0, 1)$,\n",
    "$X \\sim N(0, 1)$,\n",
    "$Y \\sim \\exp(1)$, and\n",
    "$Z \\sim \\|X\\|$"
   ]
  },
  {
   "cell_type": "code",
   "execution_count": null,
   "metadata": {},
   "outputs": [],
   "source": [
    "def simulate_u(size: int) -> np.ndarray:\n",
    "    return np.random.random(size)\n",
    "    \n",
    "def simulate_x(size: int) -> np.ndarray:\n",
    "    return np.random.normal(0, 1, size)\n",
    "\n",
    "def simulate_y(size: int) -> np.ndarray:\n",
    "    return np.random.exponential(1, size)\n",
    "\n",
    "def simulate_z(size: int) -> np.ndarray:\n",
    "    return simulate_x(size)\n"
   ]
  },
  {
   "cell_type": "markdown",
   "metadata": {},
   "source": [
    "## Generate Z using rejection sampling\n",
    "Hahah geen idee of dit het is"
   ]
  },
  {
   "cell_type": "code",
   "execution_count": null,
   "metadata": {},
   "outputs": [],
   "source": [
    "def find_M(true, est):\n",
    "    maximum = None\n",
    "    for i in range(len(true)):\n",
    "        if maximum is None:\n",
    "            maximum = true[i]/est[i]\n",
    "\n",
    "        this = true[i]/est[i]\n",
    "\n",
    "        if this> maximum:\n",
    "            maximum = this\n",
    "\n",
    "    return maximum\n",
    "\n",
    "\n",
    "def gen_z_using_rejection():\n",
    "    size = 1000\n",
    "    vector_Y = simulate_y(size)\n",
    "    vector_Z = simulate_z(size)\n",
    "    vector_U = simulate_u(size)\n",
    "    M = find_M(vector_Z, vector_Y)\n",
    "\n",
    "    for i in range(size):\n",
    "        # if vector_U[i] =< vector_Z\n",
    "        pass\n",
    "    # pass\n",
    "\n",
    "gen_z_using_rejection()"
   ]
  }
 ],
 "metadata": {
  "language_info": {
   "name": "python"
  },
  "orig_nbformat": 4
 },
 "nbformat": 4,
 "nbformat_minor": 2
}

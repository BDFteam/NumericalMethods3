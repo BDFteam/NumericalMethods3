{
 "cells": [
  {
   "cell_type": "markdown",
   "metadata": {},
   "source": [
    "# Part 1: Rejection Sampling\n",
    "\n",
    "First import dependencies"
   ]
  },
  {
   "cell_type": "code",
   "execution_count": 2,
   "metadata": {},
   "outputs": [],
   "source": [
    "import matplotlib.pyplot as plt\n",
    "import scipy.stats as sts\n",
    "import numpy as np"
   ]
  },
  {
   "cell_type": "markdown",
   "metadata": {},
   "source": [
    "## Create Samples\n",
    "In the functions below we create random samples of size n, for the given distributions:\n",
    "$U \\sim U(0, 1)$,\n",
    "$X \\sim N(0, 1)$,\n",
    "$Y \\sim \\exp(1)$, and\n",
    "$Z \\sim \\|X\\|$"
   ]
  },
  {
   "cell_type": "code",
   "execution_count": 3,
   "metadata": {},
   "outputs": [],
   "source": [
    "def simulate_u(size: int) -> np.ndarray:\n",
    "    return np.random.random(size)\n",
    "    \n",
    "def simulate_x(size: int) -> np.ndarray:\n",
    "    return np.random.normal(0, 1, size)\n",
    "\n",
    "def simulate_y(size: int) -> np.ndarray:\n",
    "    # Moet met dat ding inverse ~ Robin Vraag?\n",
    "    return np.random.exponential(1, size)\n",
    "\n",
    "def simulate_z(size: int) -> np.ndarray:\n",
    "    return np.abs(simulate_x(size))\n"
   ]
  },
  {
   "cell_type": "markdown",
   "metadata": {},
   "source": [
    "## Generate Z using rejection sampling\n",
    "To sample using rejection we need to simulate Y from a proposal distribution. Then simulate $U[0,1]$.\n",
    "To find a function for when we need to reject, we need to find if $U \\leq \\frac{f_Z(Y)}{M g_Y(Y)}$\n",
    "\n",
    "Where $M = \\max_y \\frac{f_Z(y)}{g_Y(y)}$.\n",
    "\n",
    "We can derive M as follows. First we need to find:\n",
    "$$\\frac{f_Z(y)}{g_Y(y)}$$\n",
    "Which equals:\n",
    "$$\\frac{2}{\\sqrt{2\\pi}} \\exp (y(-\\frac{y}{2} + 1))$$\n",
    "\n",
    "We can find the maximum, by equating the derivative to 0.\n",
    "$$\\frac{\\partial (\\frac{2}{\\sqrt{2\\pi}} \\exp (y(-\\frac{y}{2} + 1)))}{\\partial y} = (-y + 1) \\frac{2}{\\sqrt{2\\pi}} \\exp (-\\frac{1}{2}y^2 + y)$$\n",
    "$$ (-y + 1) \\frac{2}{\\sqrt{2\\pi}} \\exp (-\\frac{1}{2}y^2 + y) = 0 \\Rightarrow (-y + 1) = 0 \\lor \\exp (-\\frac{1}{2}y^2 + y) = 0$$\n",
    "We know that $\\exp (-\\frac{1}{2}y^2 + y) = 0$, is only when $y = \\infty$, so then the maximum is at $y = 1$.\n",
    "\n",
    "If we fill that in we get that $M = \\frac{2}{\\sqrt{2\\pi}} e^{\\frac{1}{2}}$. Thus we get the following $\\alpha(x)$:\n",
    "$$\\alpha(x) = e^{-\\frac{1}{2}x^2 + x + \\frac{1}{2}}$$"
   ]
  },
  {
   "cell_type": "markdown",
   "metadata": {},
   "source": [
    "Knowing this we generate $Z$ using rejection sampling. Then we create 1 million samples. We randomly (50%-50%) multiply by $-1$, after which we create a histrogram."
   ]
  },
  {
   "cell_type": "code",
   "execution_count": 4,
   "metadata": {},
   "outputs": [
    {
     "name": "stdout",
     "output_type": "stream",
     "text": [
      "Generated 1314865 Y, for 1000000 Zs.\n"
     ]
    },
    {
     "data": {
      "image/png": "[encoded data removed]",
      "text/plain": [
       "<Figure size 432x288 with 1 Axes>"
      ]
     },
     "metadata": {
      "needs_background": "light"
     },
     "output_type": "display_data"
    }
   ],
   "source": [
    "def rejection_abs_normal(n):\n",
    "    \"\"\"Generate Z using rejection sampling\"\"\"\n",
    "    Z = np.zeros(n)\n",
    "\n",
    "    y_generated = 0\n",
    "\n",
    "    for i in range(0,n):\n",
    "        Y = simulate_y(1)\n",
    "        y_generated += 1\n",
    "        U = np.random.rand()\n",
    "        while U > np.exp(-0.5 * Y **2 + Y - 0.5):\n",
    "            Y = simulate_y(1)\n",
    "            y_generated += 1\n",
    "            U = np.random.rand()\n",
    "            \n",
    "        Z[i] = Y\n",
    "\n",
    "    print(f\"Generated {y_generated} Y, for {n} Zs.\")\n",
    "    return Z\n",
    "\n",
    "def split(input):\n",
    "    \"\"\"Random ly multiply by -1\"\"\"\n",
    "    for i in range(len(input)): \n",
    "        if simulate_u(1) > 0.5: input[i] = -input[i]\n",
    "\n",
    "    return input\n",
    "\n",
    "def standard_normal(n):\n",
    "    \"\"\"To draw standard normal\"\"\"\n",
    "    x = np.linspace(-4, 4, n)\n",
    "    y = sts.norm.pdf(x)\n",
    "\n",
    "    return y\n",
    "    \n",
    "\n",
    "def main():\n",
    "    \"\"\"Draw histogram\"\"\"\n",
    "    n = 1000000\n",
    "    samples = rejection_abs_normal(n)\n",
    "    samples = split(samples)\n",
    "\n",
    "\n",
    "    plt.hist(samples, density=True, bins=500)\n",
    "    plt.plot(np.linspace(-4, 4, 1000), standard_normal(1000))\n",
    "    plt.show()\n",
    "\n",
    "\n",
    "\n",
    "main()"
   ]
  },
  {
   "cell_type": "markdown",
   "metadata": {},
   "source": [
    "We get from the code above that for 1 million Z's, we needed to generate about 1.315 million Y's. The fraction of this is actually quite similar to the value of $M = 1.315489...$. Misschien moet hier nog meer."
   ]
  }
 ],
 "metadata": {
  "interpreter": {
   "hash": "1c7434731747d88815ea98a4470429bf1ebbf9287f8433fda1e0ecccc300fe0c"
  },
  "kernelspec": {
   "display_name": "Python 3.8.3 64-bit ('base': conda)",
   "language": "python",
   "name": "python3"
  },
  "language_info": {
   "codemirror_mode": {
    "name": "ipython",
    "version": 3
   },
   "file_extension": ".py",
   "mimetype": "text/x-python",
   "name": "python",
   "nbconvert_exporter": "python",
   "pygments_lexer": "ipython3",
   "version": "3.8.3"
  },
  "orig_nbformat": 4
 },
 "nbformat": 4,
 "nbformat_minor": 2
}
